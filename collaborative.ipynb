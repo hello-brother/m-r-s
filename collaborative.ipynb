{
 "cells": [
  {
   "cell_type": "code",
   "execution_count": 33,
   "metadata": {},
   "outputs": [],
   "source": [
    "from pyspark.sql import SparkSession\n",
    "from pyspark.ml.evaluation import RegressionEvaluator\n",
    "from pyspark.ml.recommendation import ALS\n",
    "from pyspark.ml.feature import StringIndexer\n",
    "from pyspark.ml import Pipeline\n",
    "from pyspark.ml.tuning import TrainValidationSplit, ParamGridBuilder\n",
    "from pyspark import SparkConf\n",
    "from pyspark.ml.tuning import CrossValidator"
   ]
  },
  {
   "cell_type": "code",
   "execution_count": 34,
   "metadata": {},
   "outputs": [],
   "source": [
    "spark = SparkSession.builder.appName(\"recommender\").getOrCreate()\n",
    "\n",
    "df = spark.read.csv(\"final_ratings.csv\", inferSchema=True, header=True)"
   ]
  },
  {
   "cell_type": "code",
   "execution_count": 35,
   "metadata": {},
   "outputs": [
    {
     "name": "stdout",
     "output_type": "stream",
     "text": [
      "+--------------+------+------+------+\n",
      "|          name|  tvId|userId|rating|\n",
      "+--------------+------+------+------+\n",
      "|Rick and Morty| 60625|   106|   9.0|\n",
      "|Rick and Morty| 60625|  1576|  10.0|\n",
      "|Grey's Anatomy|  1416|     3|   1.0|\n",
      "|Grey's Anatomy|  1416|  1576|   1.0|\n",
      "|  The Simpsons|   456|  1561|  10.0|\n",
      "|  The Simpsons|   456|  1576|   5.0|\n",
      "|    Invincible| 95557|   649|  10.0|\n",
      "|          Loki| 84958|    11|  10.0|\n",
      "|          Loki| 84958|   923|   8.0|\n",
      "|          Loki| 84958|   727|   9.0|\n",
      "|          Loki| 84958|   709|   6.0|\n",
      "|          Loki| 84958|   728|  10.0|\n",
      "|    Doctor Who| 57243|    24|  10.0|\n",
      "|    Doctor Who| 57243|  1002|   7.0|\n",
      "|  Supernatural|  1622|    23|   7.0|\n",
      "|    Doctor Who| 57243|    24|  10.0|\n",
      "|    Doctor Who| 57243|  1002|   7.0|\n",
      "|     Wednesday|119051|    28|   1.0|\n",
      "|     Wednesday|119051|    29|   9.0|\n",
      "|     Wednesday|119051|    30|   4.0|\n",
      "+--------------+------+------+------+\n",
      "only showing top 20 rows\n",
      "\n"
     ]
    }
   ],
   "source": [
    "df.show()"
   ]
  },
  {
   "cell_type": "code",
   "execution_count": 36,
   "metadata": {},
   "outputs": [
    {
     "name": "stdout",
     "output_type": "stream",
     "text": [
      "+-------+-----------------+-----------------+------------------+------------------+\n",
      "|summary|             name|             tvId|            userId|            rating|\n",
      "+-------+-----------------+-----------------+------------------+------------------+\n",
      "|  count|             1352|             1352|              1352|              1352|\n",
      "|   mean|         1665.625|72794.43121301776|1244.5029585798816|6.8076923076923075|\n",
      "| stddev|663.4052709855632|51067.32025267716| 436.6018466017765|2.9877618625731066|\n",
      "|    min| 1000 Ways to Die|               45|                 3|               1.0|\n",
      "|    max|          iZombie|           237311|              1597|              10.0|\n",
      "+-------+-----------------+-----------------+------------------+------------------+\n",
      "\n"
     ]
    }
   ],
   "source": [
    "df.describe().show()"
   ]
  },
  {
   "cell_type": "code",
   "execution_count": 37,
   "metadata": {},
   "outputs": [],
   "source": [
    "(train, test) = df.randomSplit([0.8,0.2], seed = 42)"
   ]
  },
  {
   "cell_type": "code",
   "execution_count": 38,
   "metadata": {},
   "outputs": [],
   "source": [
    "als = ALS(userCol=\"userId\", itemCol=\"tvId\", ratingCol=\"rating\", maxIter=5, regParam=0.01)"
   ]
  },
  {
   "cell_type": "code",
   "execution_count": 39,
   "metadata": {},
   "outputs": [],
   "source": [
    "model = als.fit(train)"
   ]
  },
  {
   "cell_type": "code",
   "execution_count": 40,
   "metadata": {},
   "outputs": [],
   "source": [
    "pred = model.transform(test)"
   ]
  },
  {
   "cell_type": "code",
   "execution_count": 41,
   "metadata": {},
   "outputs": [
    {
     "name": "stdout",
     "output_type": "stream",
     "text": [
      "+--------------------+------+------+------+----------+\n",
      "|                name|  tvId|userId|rating|prediction|\n",
      "+--------------------+------+------+------+----------+\n",
      "|Adventures of Sup...| 12662|  1576|   6.0|       NaN|\n",
      "|        Almost Human| 51019|  1576|  10.0|-0.7976903|\n",
      "|Battlestar Galactica| 71365|  1576|  10.0|       NaN|\n",
      "|        All American| 82428|   673|  10.0|    9.9989|\n",
      "|                  24|  1973|  1243|   8.0|       NaN|\n",
      "|A Discovery of Wi...| 77236|  1592|   8.0|       NaN|\n",
      "|               9-1-1| 75219|   190|  10.0| 2.0167692|\n",
      "|             Ballers| 62704|  1542|   9.0|       NaN|\n",
      "|      13 Reasons Why| 66788|   590|   5.0|       NaN|\n",
      "|Anne Rice's Mayfa...|207863|  1576|   2.0|       NaN|\n",
      "|Alfred Hitchcock ...|  5273|  1253|   6.0|       NaN|\n",
      "|Alfred Hitchcock ...|  5273|  1576|  10.0|       NaN|\n",
      "|Alias Smith and J...|  3275|  1243|   8.0|       NaN|\n",
      "|All Creatures Gre...|108255|  1594|  10.0|       NaN|\n",
      "|            Batwoman| 89247|  1542|   7.0|       NaN|\n",
      "|    A Touch of Frost|  2474|  1594|   7.0|       NaN|\n",
      "|Battlestar Galactica|  1972|   361|  10.0|-1.8995574|\n",
      "|                1899| 90669|  1136|   4.0| -3.960656|\n",
      "|                1883|118357|  1594|   7.0|       NaN|\n",
      "|Are You Afraid of...|  2913|  1576|   1.0|0.14250413|\n",
      "+--------------------+------+------+------+----------+\n",
      "only showing top 20 rows\n",
      "\n"
     ]
    }
   ],
   "source": [
    "pred.show()"
   ]
  },
  {
   "cell_type": "code",
   "execution_count": 42,
   "metadata": {},
   "outputs": [],
   "source": [
    "eval = RegressionEvaluator(metricName=\"rmse\", labelCol=\"rating\", predictionCol=\"prediction\")"
   ]
  },
  {
   "cell_type": "code",
   "execution_count": 43,
   "metadata": {},
   "outputs": [
    {
     "name": "stdout",
     "output_type": "stream",
     "text": [
      "RMSE: nan\n"
     ]
    }
   ],
   "source": [
    "rmse = eval.evaluate(pred)\n",
    "print(f\"RMSE: {rmse}\")"
   ]
  }
 ],
 "metadata": {
  "kernelspec": {
   "display_name": "base",
   "language": "python",
   "name": "python3"
  },
  "language_info": {
   "codemirror_mode": {
    "name": "ipython",
    "version": 3
   },
   "file_extension": ".py",
   "mimetype": "text/x-python",
   "name": "python",
   "nbconvert_exporter": "python",
   "pygments_lexer": "ipython3",
   "version": "3.11.4"
  }
 },
 "nbformat": 4,
 "nbformat_minor": 2
}
